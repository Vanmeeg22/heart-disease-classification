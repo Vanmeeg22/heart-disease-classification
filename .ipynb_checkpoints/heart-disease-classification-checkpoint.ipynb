{
 "cells": [
  {
   "cell_type": "markdown",
   "id": "0bec4b8d-0167-449b-99b3-baa7d636ae00",
   "metadata": {},
   "source": [
    "# Predicting heart disease using machine learning\n",
    "\n",
    "This notebook looks into using various Python-based machine learning and data science libraries in an attempt to build a machine learning model capable of predicting whether or not someone has heart disease based on their medical attributes.\n",
    "\n",
    "We're going to take the following approach:\n",
    "1. Problem definition\n",
    "2. Data\n",
    "3. Evaluation\n",
    "4. Features\n",
    "5. Modelling\n",
    "6. Experimentation"
   ]
  },
  {
   "cell_type": "markdown",
   "id": "66314ea7-e4a6-4e14-8104-681d27c337f7",
   "metadata": {},
   "source": [
    "## 1. Problem Definition\n",
    "\n",
    "In a statement,\n",
    "> Given clinical parameters about a patient, can we predict whether or not they have heart disease?\n",
    "\n",
    "## 2. Data\n",
    "The original data came from Cleveland data from the UCI Machine Learning Repository. https://archive.ics.uci.edu/dataset/45/heart+disease\n",
    "\n",
    "There is also a version of it available on Kaggle. https://www.kaggle.com/datasets/redwankarimsony/heart-disease-data\n",
    "\n",
    "## 3. Evaluation\n",
    "> If we can reach 95% accuracy at predicting whether or not a patient has heart disease during the proof of concept, we'll pursue the project.\n",
    "\n",
    "## 4. Features\n",
    "\n",
    "**Create data dictionary**\n",
    "\n",
    "1. `age` (Age of the patient in years)\n",
    "2. `sex` (Male/Female)\n",
    "3. `cp` chest pain type\n",
    "   * 0: Typical angina\n",
    "   * 1: Atypical angina\n",
    "   * 2: Non-anginal\n",
    "   * 3: Asymptomatic\n",
    "4. `trestbps` resting blood pressure (in mm Hg on admission to the hospital)\n",
    "5. `chol` (serum cholesterol in mg/dl)\n",
    "6. `fbs` (if fasting blood sugar > 120 mg/dl) (1 = True; 0 = False)\n",
    "7. `restecg` (resting electrocardiographic results - values: [normal, stt abnormality, lv hypertrophy])\n",
    "8. `thalach` (maximum heart rate achieved)\n",
    "9. `exang` (exercise induced angina (1 = True; 0 = False)\n",
    "10. `oldpeak` (ST depression induced by exercise relative to rest)\n",
    "11. `slope` (the slope of the peak exercise ST segment)\n",
    "12. `ca` (number of major vessels (0-3) colored by fluoroscopy\n",
    "13. `thal` thalium stress result\n",
    "    * 1, 3: normal\n",
    "    * 6: fixed defect\n",
    "    * 7: reversible defect\n",
    "15. `num` have disease or not (1 = Yes; 0 = No) (the predicted attribute)"
   ]
  },
  {
   "cell_type": "markdown",
   "id": "6f923425-efdf-408d-82aa-d7500823a996",
   "metadata": {},
   "source": [
    "## Preparing the tools\n",
    "\n",
    "Using Pandas, Matplotlib and Numpy for data analysis and manipulation."
   ]
  },
  {
   "cell_type": "code",
   "execution_count": null,
   "id": "15b5fd82-c77c-4792-91eb-0b90e8767470",
   "metadata": {},
   "outputs": [],
   "source": [
    "# Import all the required tools"
   ]
  }
 ],
 "metadata": {
  "kernelspec": {
   "display_name": "Python 3 (ipykernel)",
   "language": "python",
   "name": "python3"
  },
  "language_info": {
   "codemirror_mode": {
    "name": "ipython",
    "version": 3
   },
   "file_extension": ".py",
   "mimetype": "text/x-python",
   "name": "python",
   "nbconvert_exporter": "python",
   "pygments_lexer": "ipython3",
   "version": "3.12.4"
  }
 },
 "nbformat": 4,
 "nbformat_minor": 5
}
